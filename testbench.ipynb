{
 "cells": [
  {
   "cell_type": "code",
   "execution_count": 227,
   "metadata": {},
   "outputs": [],
   "source": [
    "import os\n",
    "import numpy as np\n",
    "import time"
   ]
  },
  {
   "cell_type": "code",
   "execution_count": 230,
   "metadata": {},
   "outputs": [
    {
     "name": "stdout",
     "output_type": "stream",
     "text": [
      "[[ 0.          2.741066    1.8835598  ...  0.         14.694044\n",
      "   3.151916  ]\n",
      " [ 3.2082841   0.          0.         ...  0.          0.\n",
      "   0.        ]\n",
      " [ 0.          0.          0.         ...  0.          0.\n",
      "   0.        ]\n",
      " ...\n",
      " [ 0.          0.          0.         ...  0.          0.22288156\n",
      "   0.        ]\n",
      " [ 0.          8.48595     0.         ...  0.          0.\n",
      "   0.        ]\n",
      " [ 4.0658603   0.          0.         ...  0.          0.\n",
      "   0.        ]]\n",
      "\n",
      "Shape:  (9845, 4096)\n",
      "Time took to load: 0.13234996795654297 seconds.\n"
     ]
    }
   ],
   "source": [
    "t1=time.time()\n",
    "array_reloaded = np.load('awesome_natgeo/models/fnumpy_rish.npy')\n",
    "t2=time.time()\n",
    "print(array_reloaded)\n",
    "print('\\nShape: ',array_reloaded.shape)\n",
    "print(f\"Time took to load: {t2-t1} seconds.\")"
   ]
  },
  {
   "cell_type": "code",
   "execution_count": null,
   "metadata": {},
   "outputs": [],
   "source": []
  },
  {
   "cell_type": "code",
   "execution_count": null,
   "metadata": {},
   "outputs": [],
   "source": []
  },
  {
   "cell_type": "code",
   "execution_count": 196,
   "metadata": {},
   "outputs": [
    {
     "data": {
      "text/plain": [
       "'https://scontent-sea1-1.cdninstagram.com/vp/73860303c7800104e849f2736fe4d30d/5D4CAFFA/t51.2885-15/e15/c180.0.720.720/s640x640/54512224_417757179000434_5993059556972731257_n.jpg?_nc_ht=scontent-sea1-1.cdninstagram.com&ig_cache_key=MjAxNjUzNTU0OTU4NjM3NDgwNg%3D%3D.2.c'"
      ]
     },
     "execution_count": 196,
     "metadata": {},
     "output_type": "execute_result"
    }
   ],
   "source": [
    "test_filename = df['thumbnail_src'][0]\n",
    "test_filename\n",
    "import re\n",
    "fname = re.compile('\\w+\\.jpg')\n",
    "#df['sorted_fns'] = df['thumbnail_src'].apply(lambda x: fname.findall(x))"
   ]
  },
  {
   "cell_type": "code",
   "execution_count": 226,
   "metadata": {},
   "outputs": [],
   "source": []
  },
  {
   "cell_type": "code",
   "execution_count": null,
   "metadata": {},
   "outputs": [],
   "source": [
    "df = df.sort_values('shortcode').reset_index()\n",
    "df['shortcode']"
   ]
  },
  {
   "cell_type": "code",
   "execution_count": 181,
   "metadata": {},
   "outputs": [],
   "source": [
    "#df['sorted_fns'] = df['thumbnail_src'].apply(lambda x: x.split('/')[11].split('?')[0])\n",
    "#df['sorted_fns']"
   ]
  },
  {
   "cell_type": "code",
   "execution_count": null,
   "metadata": {},
   "outputs": [],
   "source": []
  },
  {
   "cell_type": "code",
   "execution_count": 190,
   "metadata": {},
   "outputs": [
    {
     "data": {
      "text/html": [
       "<div>\n",
       "<style scoped>\n",
       "    .dataframe tbody tr th:only-of-type {\n",
       "        vertical-align: middle;\n",
       "    }\n",
       "\n",
       "    .dataframe tbody tr th {\n",
       "        vertical-align: top;\n",
       "    }\n",
       "\n",
       "    .dataframe thead th {\n",
       "        text-align: right;\n",
       "    }\n",
       "</style>\n",
       "<table border=\"1\" class=\"dataframe\">\n",
       "  <thead>\n",
       "    <tr style=\"text-align: right;\">\n",
       "      <th></th>\n",
       "      <th>Unnamed: 0</th>\n",
       "      <th>index</th>\n",
       "      <th>art_title</th>\n",
       "      <th>image_url</th>\n",
       "      <th>imgfile</th>\n",
       "      <th>linkurl</th>\n",
       "    </tr>\n",
       "  </thead>\n",
       "  <tbody>\n",
       "    <tr>\n",
       "      <th>0</th>\n",
       "      <td>0</td>\n",
       "      <td>11943</td>\n",
       "      <td>a-nice-pear-abstract-art-by-sharon-cummings-sh...</td>\n",
       "      <td>https://render.fineartamerica.com/images/rende...</td>\n",
       "      <td>000fd367bd9378a6a9522b2e90482f6026a19bdb.jpg</td>\n",
       "      <td>https://fineartamerica.com/featured/a-nice-pea...</td>\n",
       "    </tr>\n",
       "    <tr>\n",
       "      <th>1</th>\n",
       "      <td>1</td>\n",
       "      <td>7082</td>\n",
       "      <td>bank-of-the-seine-near-the-pont-des-arts-paul-...</td>\n",
       "      <td>https://render.fineartamerica.com/images/rende...</td>\n",
       "      <td>00100c64a1ee119796e1ab54cb296860f0ac7b7c.jpg</td>\n",
       "      <td>https://fineartamerica.com/featured/bank-of-th...</td>\n",
       "    </tr>\n",
       "  </tbody>\n",
       "</table>\n",
       "</div>"
      ],
      "text/plain": [
       "   Unnamed: 0  index                                          art_title  \\\n",
       "0           0  11943  a-nice-pear-abstract-art-by-sharon-cummings-sh...   \n",
       "1           1   7082  bank-of-the-seine-near-the-pont-des-arts-paul-...   \n",
       "\n",
       "                                           image_url  \\\n",
       "0  https://render.fineartamerica.com/images/rende...   \n",
       "1  https://render.fineartamerica.com/images/rende...   \n",
       "\n",
       "                                        imgfile  \\\n",
       "0  000fd367bd9378a6a9522b2e90482f6026a19bdb.jpg   \n",
       "1  00100c64a1ee119796e1ab54cb296860f0ac7b7c.jpg   \n",
       "\n",
       "                                             linkurl  \n",
       "0  https://fineartamerica.com/featured/a-nice-pea...  \n",
       "1  https://fineartamerica.com/featured/bank-of-th...  "
      ]
     },
     "execution_count": 190,
     "metadata": {},
     "output_type": "execute_result"
    }
   ],
   "source": [
    "import pandas as pd \n",
    "data = pd.read_csv(\"/Users/rishabh/Downloads/natgeo/awesome_natgeo/models/files_and_titles_art20.csv\")\n",
    "data.head(2)"
   ]
  },
  {
   "cell_type": "code",
   "execution_count": null,
   "metadata": {},
   "outputs": [],
   "source": []
  }
 ],
 "metadata": {
  "kernelspec": {
   "display_name": "Python 3",
   "language": "python",
   "name": "python3"
  },
  "language_info": {
   "codemirror_mode": {
    "name": "ipython",
    "version": 3
   },
   "file_extension": ".py",
   "mimetype": "text/x-python",
   "name": "python",
   "nbconvert_exporter": "python",
   "pygments_lexer": "ipython3",
   "version": "3.7.1"
  }
 },
 "nbformat": 4,
 "nbformat_minor": 2
}
