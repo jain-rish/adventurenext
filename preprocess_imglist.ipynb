{
 "cells": [
  {
   "cell_type": "code",
   "execution_count": null,
   "metadata": {},
   "outputs": [],
   "source": [
    "import os\n",
    "import numpy as np\n",
    "import pandas as pd"
   ]
  },
  {
   "cell_type": "code",
   "execution_count": null,
   "metadata": {},
   "outputs": [],
   "source": []
  },
  {
   "cell_type": "code",
   "execution_count": null,
   "metadata": {},
   "outputs": [],
   "source": [
    "import re\n",
    "df= pd.read_json('/Users/rishabh/Downloads/instagram_natgeo/natgeotravel/natgeotravel.json')\n",
    "\n",
    "caption = re.compile(\"(@.*)\")\n",
    "df['edge_media_to_caption']= df['edge_media_to_caption'].apply(lambda x: caption.findall(str(x).strip(\"'\\}}]}\")))\n",
    "df['edge_media_to_caption'] = df['edge_media_to_caption'].str.get(0)"
   ]
  },
  {
   "cell_type": "code",
   "execution_count": null,
   "metadata": {},
   "outputs": [],
   "source": [
    "#df"
   ]
  },
  {
   "cell_type": "code",
   "execution_count": null,
   "metadata": {},
   "outputs": [],
   "source": [
    "df['imgfile']= df['shortcode']\n",
    "df['linkurl']= df['edge_media_to_caption']\n",
    "df['image_url']= df['display_url']\n",
    "df['instagram_url']= ['https://www.instagram.com/p/' + str(col) for col in df.shortcode]\n",
    "\n",
    "df['art_title']= df['tags']\n",
    "df.drop(df.columns.difference(['imgfile','linkurl','image_url', 'instagram_url', 'art_title']), 1, inplace=True)\n",
    "df.columns"
   ]
  },
  {
   "cell_type": "code",
   "execution_count": null,
   "metadata": {},
   "outputs": [],
   "source": [
    "df.index"
   ]
  },
  {
   "cell_type": "code",
   "execution_count": null,
   "metadata": {},
   "outputs": [],
   "source": [
    "import glob\n",
    "# get the list of filenames ...\n",
    "path = \"/Users/rishabh/Downloads/instagram_natgeo/natgeotravel/\"\n",
    "filename =glob.glob(os.path.join(path, '*.jpg'))\n",
    "images_list = sorted([os.path.basename(current_path) for current_path in filename])\n",
    "\n",
    "im_dirlist = pd.DataFrame(data= {'imgfile': images_list})\n",
    "col1= im_dirlist['imgfile'].apply(lambda x: x.split('.')[0])\n",
    "col2= im_dirlist['imgfile'].apply(lambda x: x.split('.')[1])\n",
    "im_dirlist['imgfile']= col1\n",
    "im_dirlist['imgtype']= col2\n",
    "im_dirlist.shape"
   ]
  },
  {
   "cell_type": "code",
   "execution_count": null,
   "metadata": {},
   "outputs": [],
   "source": [
    "im_dirlist.imgfile[0:10]\n",
    "#im_dirlist"
   ]
  },
  {
   "cell_type": "code",
   "execution_count": null,
   "metadata": {},
   "outputs": [],
   "source": []
  },
  {
   "cell_type": "code",
   "execution_count": null,
   "metadata": {},
   "outputs": [],
   "source": [
    "result= df.merge(im_dirlist, how='inner', on='imgfile')\n",
    "result= result.sort_values(by=['imgfile'])\n",
    "result.to_csv('/Users/rishabh/Downloads/adventurenext/files_and_titles_ris.csv')"
   ]
  },
  {
   "cell_type": "code",
   "execution_count": null,
   "metadata": {},
   "outputs": [],
   "source": [
    "result.imgfile[0:10]"
   ]
  },
  {
   "cell_type": "code",
   "execution_count": null,
   "metadata": {},
   "outputs": [],
   "source": [
    "df= pd.read_csv('/Users/rishabh/Downloads/adventurenext/awesome_natgeo/models/files_and_titles_rish.csv')\n",
    "#df"
   ]
  },
  {
   "cell_type": "code",
   "execution_count": null,
   "metadata": {},
   "outputs": [],
   "source": []
  },
  {
   "cell_type": "code",
   "execution_count": null,
   "metadata": {},
   "outputs": [],
   "source": [
    "# CHECK FOR MISSING FILES ...\n",
    "\n",
    "images= sorted(os.listdir(path))\n",
    "\n",
    "for f in images:    \n",
    "    # Process filename\n",
    "    filename = os.path.splitext(f)  # filename in directory\n",
    "    filename_full = os.path.join(path,f)  # full path filename\n",
    "    head, ext = filename[0], filename[1]\n",
    "    if ext.lower() not in [\".jpg\", \".jpeg\"]:\n",
    "        print(filename)\n",
    "    else:\n",
    "        continue"
   ]
  },
  {
   "cell_type": "code",
   "execution_count": null,
   "metadata": {},
   "outputs": [],
   "source": []
  },
  {
   "cell_type": "code",
   "execution_count": null,
   "metadata": {},
   "outputs": [],
   "source": []
  },
  {
   "cell_type": "code",
   "execution_count": null,
   "metadata": {},
   "outputs": [],
   "source": []
  },
  {
   "cell_type": "code",
   "execution_count": null,
   "metadata": {},
   "outputs": [],
   "source": []
  },
  {
   "cell_type": "code",
   "execution_count": null,
   "metadata": {},
   "outputs": [],
   "source": []
  }
 ],
 "metadata": {
  "kernelspec": {
   "display_name": "Python 3",
   "language": "python",
   "name": "python3"
  },
  "language_info": {
   "codemirror_mode": {
    "name": "ipython",
    "version": 3
   },
   "file_extension": ".py",
   "mimetype": "text/x-python",
   "name": "python",
   "nbconvert_exporter": "python",
   "pygments_lexer": "ipython3",
   "version": "3.7.1"
  }
 },
 "nbformat": 4,
 "nbformat_minor": 2
}
