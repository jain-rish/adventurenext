{
 "cells": [
  {
   "cell_type": "code",
   "execution_count": 508,
   "metadata": {},
   "outputs": [],
   "source": [
    "import os\n",
    "import numpy as np\n",
    "import pandas as pd"
   ]
  },
  {
   "cell_type": "code",
   "execution_count": null,
   "metadata": {},
   "outputs": [],
   "source": []
  },
  {
   "cell_type": "code",
   "execution_count": 509,
   "metadata": {},
   "outputs": [],
   "source": [
    "import re\n",
    "df= pd.read_json('/Users/rishabh/Downloads/instagram_natgeo/natgeotravel/natgeotravel.json')#\n",
    "\n",
    "caption = re.compile(\"(@.*)\")\n",
    "df['edge_media_to_caption']= df['edge_media_to_caption'].apply(lambda x: caption.findall(str(x).strip(\"'\\}}]}\")))\n",
    "df['edge_media_to_caption'] = df['edge_media_to_caption'].str.get(0)"
   ]
  },
  {
   "cell_type": "code",
   "execution_count": 511,
   "metadata": {},
   "outputs": [],
   "source": [
    "#df"
   ]
  },
  {
   "cell_type": "code",
   "execution_count": 512,
   "metadata": {},
   "outputs": [
    {
     "data": {
      "text/plain": [
       "Index(['imgfile', 'linkurl', 'image_url', 'instagram_url', 'art_title'], dtype='object')"
      ]
     },
     "execution_count": 512,
     "metadata": {},
     "output_type": "execute_result"
    }
   ],
   "source": [
    "df['imgfile']= df['shortcode']\n",
    "df['linkurl']= df['edge_media_to_caption']\n",
    "df['image_url']= df['display_url']\n",
    "df['instagram_url']= ['https://www.instagram.com/p/' + str(col) for col in df.shortcode]\n",
    "\n",
    "df['art_title']= df['tags']\n",
    "df.drop(df.columns.difference(['imgfile','linkurl','image_url', 'instagram_url', 'art_title']), 1, inplace=True)\n",
    "df.columns"
   ]
  },
  {
   "cell_type": "code",
   "execution_count": 513,
   "metadata": {},
   "outputs": [
    {
     "data": {
      "text/plain": [
       "RangeIndex(start=0, stop=10308, step=1)"
      ]
     },
     "execution_count": 513,
     "metadata": {},
     "output_type": "execute_result"
    }
   ],
   "source": [
    "df.index"
   ]
  },
  {
   "cell_type": "code",
   "execution_count": 514,
   "metadata": {},
   "outputs": [
    {
     "data": {
      "text/plain": [
       "(9845, 2)"
      ]
     },
     "execution_count": 514,
     "metadata": {},
     "output_type": "execute_result"
    }
   ],
   "source": [
    "import glob\n",
    "# get the list of filenames ...\n",
    "path = \"/Users/rishabh/Downloads/instagram_natgeo/natgeotravel/\"\n",
    "filename =glob.glob(os.path.join(path, '*.jpg'))\n",
    "images_list = sorted([os.path.basename(current_path) for current_path in filename])\n",
    "\n",
    "im_dirlist = pd.DataFrame(data= {'imgfile': images_list})\n",
    "col1= im_dirlist['imgfile'].apply(lambda x: x.split('.')[0])\n",
    "col2= im_dirlist['imgfile'].apply(lambda x: x.split('.')[1])\n",
    "im_dirlist['imgfile']= col1\n",
    "im_dirlist['imgtype']= col2\n",
    "im_dirlist.shape"
   ]
  },
  {
   "cell_type": "code",
   "execution_count": 515,
   "metadata": {},
   "outputs": [
    {
     "data": {
      "text/plain": [
       "0    --IXtCIMbI\n",
       "1    -0GE9voMWS\n",
       "2    -0qtaToMQ7\n",
       "3    -1O-G7IMSC\n",
       "4    -1sF14IMT-\n",
       "5    -2QQLiIMU-\n",
       "6    -2hqt-IMTH\n",
       "7    -34z_joMXQ\n",
       "8    -4MbxvoMah\n",
       "9    -64uAmIMfv\n",
       "Name: imgfile, dtype: object"
      ]
     },
     "execution_count": 515,
     "metadata": {},
     "output_type": "execute_result"
    }
   ],
   "source": [
    "im_dirlist.imgfile[0:10]\n",
    "#im_dirlist"
   ]
  },
  {
   "cell_type": "code",
   "execution_count": null,
   "metadata": {},
   "outputs": [],
   "source": []
  },
  {
   "cell_type": "code",
   "execution_count": 516,
   "metadata": {},
   "outputs": [],
   "source": [
    "result= df.merge(im_dirlist, how='inner', on='imgfile')\n",
    "result= result.sort_values(by=['imgfile'])\n",
    "result.to_csv('/Users/rishabh/Downloads/natgeo/files_and_titles_rish.csv')"
   ]
  },
  {
   "cell_type": "code",
   "execution_count": 517,
   "metadata": {},
   "outputs": [
    {
     "data": {
      "text/plain": [
       "5952    --IXtCIMbI\n",
       "5964    -0GE9voMWS\n",
       "5963    -0qtaToMQ7\n",
       "5962    -1O-G7IMSC\n",
       "5961    -1sF14IMT-\n",
       "5960    -2QQLiIMU-\n",
       "5959    -2hqt-IMTH\n",
       "5958    -34z_joMXQ\n",
       "5957    -4MbxvoMah\n",
       "5956    -64uAmIMfv\n",
       "Name: imgfile, dtype: object"
      ]
     },
     "execution_count": 517,
     "metadata": {},
     "output_type": "execute_result"
    }
   ],
   "source": [
    "result.imgfile[0:10]"
   ]
  },
  {
   "cell_type": "code",
   "execution_count": 518,
   "metadata": {},
   "outputs": [],
   "source": [
    "df= pd.read_csv('/Users/rishabh/Downloads/natgeo/awesome_natgeo/models/files_and_titles_rish.csv')\n",
    "#df"
   ]
  },
  {
   "cell_type": "code",
   "execution_count": null,
   "metadata": {},
   "outputs": [],
   "source": []
  },
  {
   "cell_type": "code",
   "execution_count": null,
   "metadata": {},
   "outputs": [],
   "source": [
    "# CHECK FOR MISSING FILES ...\n",
    "\n",
    "images= sorted(os.listdir(path))\n",
    "\n",
    "for f in images:    \n",
    "    # Process filename\n",
    "    filename = os.path.splitext(f)  # filename in directory\n",
    "    filename_full = os.path.join(path,f)  # full path filename\n",
    "    head, ext = filename[0], filename[1]\n",
    "    if ext.lower() not in [\".jpg\", \".jpeg\"]:\n",
    "        print(filename)\n",
    "    else:\n",
    "        continue"
   ]
  },
  {
   "cell_type": "code",
   "execution_count": null,
   "metadata": {},
   "outputs": [],
   "source": []
  },
  {
   "cell_type": "code",
   "execution_count": null,
   "metadata": {},
   "outputs": [],
   "source": []
  },
  {
   "cell_type": "code",
   "execution_count": null,
   "metadata": {},
   "outputs": [],
   "source": []
  },
  {
   "cell_type": "code",
   "execution_count": null,
   "metadata": {},
   "outputs": [],
   "source": []
  },
  {
   "cell_type": "code",
   "execution_count": null,
   "metadata": {},
   "outputs": [],
   "source": []
  }
 ],
 "metadata": {
  "kernelspec": {
   "display_name": "Python 3",
   "language": "python",
   "name": "python3"
  },
  "language_info": {
   "codemirror_mode": {
    "name": "ipython",
    "version": 3
   },
   "file_extension": ".py",
   "mimetype": "text/x-python",
   "name": "python",
   "nbconvert_exporter": "python",
   "pygments_lexer": "ipython3",
   "version": "3.7.1"
  }
 },
 "nbformat": 4,
 "nbformat_minor": 2
}
