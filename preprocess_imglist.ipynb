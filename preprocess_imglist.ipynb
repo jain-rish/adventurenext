{
 "cells": [
  {
   "cell_type": "code",
   "execution_count": 22,
   "metadata": {},
   "outputs": [],
   "source": [
    "import os\n",
    "import numpy as np\n",
    "import pandas as pd"
   ]
  },
  {
   "cell_type": "code",
   "execution_count": null,
   "metadata": {},
   "outputs": [],
   "source": []
  },
  {
   "cell_type": "code",
   "execution_count": 23,
   "metadata": {},
   "outputs": [],
   "source": [
    "import re\n",
    "df= pd.read_json('/Users/rishabh/Downloads/instagram_natgeo/natgeotravel/natgeotravel.json')\n",
    "\n",
    "caption = re.compile(\"(@.*)\")\n",
    "df['edge_media_to_caption']= df['edge_media_to_caption'].apply(lambda x: caption.findall(str(x).strip(\"'\\}}]}\")))\n",
    "df['edge_media_to_caption'] = df['edge_media_to_caption'].str.get(0)"
   ]
  },
  {
   "cell_type": "code",
   "execution_count": 36,
   "metadata": {},
   "outputs": [
    {
     "data": {
      "text/html": [
       "<div>\n",
       "<style scoped>\n",
       "    .dataframe tbody tr th:only-of-type {\n",
       "        vertical-align: middle;\n",
       "    }\n",
       "\n",
       "    .dataframe tbody tr th {\n",
       "        vertical-align: top;\n",
       "    }\n",
       "\n",
       "    .dataframe thead th {\n",
       "        text-align: right;\n",
       "    }\n",
       "</style>\n",
       "<table border=\"1\" class=\"dataframe\">\n",
       "  <thead>\n",
       "    <tr style=\"text-align: right;\">\n",
       "      <th></th>\n",
       "      <th>__typename</th>\n",
       "      <th>comments_disabled</th>\n",
       "      <th>dimensions</th>\n",
       "      <th>display_url</th>\n",
       "      <th>edge_media_preview_like</th>\n",
       "      <th>edge_media_to_caption</th>\n",
       "      <th>edge_media_to_comment</th>\n",
       "      <th>gating_info</th>\n",
       "      <th>id</th>\n",
       "      <th>is_video</th>\n",
       "      <th>media_preview</th>\n",
       "      <th>owner</th>\n",
       "      <th>shortcode</th>\n",
       "      <th>tags</th>\n",
       "      <th>taken_at_timestamp</th>\n",
       "      <th>thumbnail_resources</th>\n",
       "      <th>thumbnail_src</th>\n",
       "      <th>urls</th>\n",
       "      <th>username</th>\n",
       "      <th>video_view_count</th>\n",
       "    </tr>\n",
       "  </thead>\n",
       "  <tbody>\n",
       "    <tr>\n",
       "      <th>5143</th>\n",
       "      <td>GraphImage</td>\n",
       "      <td>False</td>\n",
       "      <td>{'height': 1080, 'width': 1080}</td>\n",
       "      <td>https://scontent-sea1-1.cdninstagram.com/vp/34...</td>\n",
       "      <td>{'count': 69598}</td>\n",
       "      <td>@bertiegregory by @beccaskinner for my new @na...</td>\n",
       "      <td>{'count': 118}</td>\n",
       "      <td>NaN</td>\n",
       "      <td>1319274501951129856</td>\n",
       "      <td>False</td>\n",
       "      <td>ACoqzo5MdaupLtwUJU+1Vl0+5/55n9P8asDTrn+6B9WH+N...</td>\n",
       "      <td>{'id': '23947096'}</td>\n",
       "      <td>BJPAStyBwku</td>\n",
       "      <td>[explorecanada]</td>\n",
       "      <td>1471489797</td>\n",
       "      <td>[{'config_height': 150, 'config_width': 150, '...</td>\n",
       "      <td>https://scontent-sea1-1.cdninstagram.com/vp/c4...</td>\n",
       "      <td>[https://scontent-sea1-1.cdninstagram.com/vp/3...</td>\n",
       "      <td>natgeotravel</td>\n",
       "      <td>NaN</td>\n",
       "    </tr>\n",
       "  </tbody>\n",
       "</table>\n",
       "</div>"
      ],
      "text/plain": [
       "      __typename  comments_disabled                       dimensions  \\\n",
       "5143  GraphImage              False  {'height': 1080, 'width': 1080}   \n",
       "\n",
       "                                            display_url  \\\n",
       "5143  https://scontent-sea1-1.cdninstagram.com/vp/34...   \n",
       "\n",
       "     edge_media_preview_like  \\\n",
       "5143        {'count': 69598}   \n",
       "\n",
       "                                  edge_media_to_caption edge_media_to_comment  \\\n",
       "5143  @bertiegregory by @beccaskinner for my new @na...        {'count': 118}   \n",
       "\n",
       "      gating_info                   id  is_video  \\\n",
       "5143          NaN  1319274501951129856     False   \n",
       "\n",
       "                                          media_preview               owner  \\\n",
       "5143  ACoqzo5MdaupLtwUJU+1Vl0+5/55n9P8asDTrn+6B9WH+N...  {'id': '23947096'}   \n",
       "\n",
       "        shortcode             tags  taken_at_timestamp  \\\n",
       "5143  BJPAStyBwku  [explorecanada]          1471489797   \n",
       "\n",
       "                                    thumbnail_resources  \\\n",
       "5143  [{'config_height': 150, 'config_width': 150, '...   \n",
       "\n",
       "                                          thumbnail_src  \\\n",
       "5143  https://scontent-sea1-1.cdninstagram.com/vp/c4...   \n",
       "\n",
       "                                                   urls      username  \\\n",
       "5143  [https://scontent-sea1-1.cdninstagram.com/vp/3...  natgeotravel   \n",
       "\n",
       "      video_view_count  \n",
       "5143               NaN  "
      ]
     },
     "execution_count": 36,
     "metadata": {},
     "output_type": "execute_result"
    }
   ],
   "source": [
    "df[df['shortcode']=='BJPAStyBwku']."
   ]
  },
  {
   "cell_type": "code",
   "execution_count": null,
   "metadata": {},
   "outputs": [],
   "source": [
    "df['imgfile']= df['shortcode']\n",
    "df['linkurl']= df['edge_media_to_caption']\n",
    "df['image_url']= df['display_url']\n",
    "df['instagram_url']= ['https://www.instagram.com/p/' + str(col) for col in df.shortcode]\n",
    "\n",
    "df['art_title']= df['tags']\n",
    "df.drop(df.columns.difference(['imgfile','linkurl','image_url', 'instagram_url', 'art_title']), 1, inplace=True)\n",
    "df.columns"
   ]
  },
  {
   "cell_type": "code",
   "execution_count": null,
   "metadata": {},
   "outputs": [],
   "source": [
    "df.index"
   ]
  },
  {
   "cell_type": "code",
   "execution_count": null,
   "metadata": {},
   "outputs": [],
   "source": [
    "import glob\n",
    "# get the list of filenames ...\n",
    "path = \"/Users/rishabh/Downloads/instagram_natgeo/natgeotravel/\"\n",
    "filename =glob.glob(os.path.join(path, '*.jpg'))\n",
    "images_list = sorted([os.path.basename(current_path) for current_path in filename])\n",
    "\n",
    "im_dirlist = pd.DataFrame(data= {'imgfile': images_list})\n",
    "col1= im_dirlist['imgfile'].apply(lambda x: x.split('.')[0])\n",
    "col2= im_dirlist['imgfile'].apply(lambda x: x.split('.')[1])\n",
    "im_dirlist['imgfile']= col1\n",
    "im_dirlist['imgtype']= col2\n",
    "im_dirlist.shape"
   ]
  },
  {
   "cell_type": "code",
   "execution_count": null,
   "metadata": {},
   "outputs": [],
   "source": [
    "im_dirlist.imgfile[0:10]\n",
    "#im_dirlist"
   ]
  },
  {
   "cell_type": "code",
   "execution_count": null,
   "metadata": {},
   "outputs": [],
   "source": []
  },
  {
   "cell_type": "code",
   "execution_count": null,
   "metadata": {},
   "outputs": [],
   "source": [
    "result= df.merge(im_dirlist, how='inner', on='imgfile')\n",
    "result= result.sort_values(by=['imgfile'])\n",
    "result.to_csv('/Users/rishabh/Downloads/adventurenext/files_and_titles_ris.csv')"
   ]
  },
  {
   "cell_type": "code",
   "execution_count": null,
   "metadata": {},
   "outputs": [],
   "source": [
    "result.imgfile[0:10]"
   ]
  },
  {
   "cell_type": "code",
   "execution_count": null,
   "metadata": {},
   "outputs": [],
   "source": [
    "df= pd.read_csv('/Users/rishabh/Downloads/adventurenext/awesome_natgeo/models/files_and_titles_rish.csv')\n",
    "#df"
   ]
  },
  {
   "cell_type": "code",
   "execution_count": null,
   "metadata": {},
   "outputs": [],
   "source": []
  },
  {
   "cell_type": "code",
   "execution_count": null,
   "metadata": {},
   "outputs": [],
   "source": [
    "# CHECK FOR MISSING FILES ...\n",
    "\n",
    "images= sorted(os.listdir(path))\n",
    "\n",
    "for f in images:    \n",
    "    # Process filename\n",
    "    filename = os.path.splitext(f)  # filename in directory\n",
    "    filename_full = os.path.join(path,f)  # full path filename\n",
    "    head, ext = filename[0], filename[1]\n",
    "    if ext.lower() not in [\".jpg\", \".jpeg\"]:\n",
    "        print(filename)\n",
    "    else:\n",
    "        continue"
   ]
  },
  {
   "cell_type": "code",
   "execution_count": null,
   "metadata": {},
   "outputs": [],
   "source": []
  },
  {
   "cell_type": "code",
   "execution_count": null,
   "metadata": {},
   "outputs": [],
   "source": []
  },
  {
   "cell_type": "code",
   "execution_count": null,
   "metadata": {},
   "outputs": [],
   "source": []
  },
  {
   "cell_type": "code",
   "execution_count": null,
   "metadata": {},
   "outputs": [],
   "source": []
  },
  {
   "cell_type": "code",
   "execution_count": null,
   "metadata": {},
   "outputs": [],
   "source": []
  }
 ],
 "metadata": {
  "kernelspec": {
   "display_name": "Python 3",
   "language": "python",
   "name": "python3"
  },
  "language_info": {
   "codemirror_mode": {
    "name": "ipython",
    "version": 3
   },
   "file_extension": ".py",
   "mimetype": "text/x-python",
   "name": "python",
   "nbconvert_exporter": "python",
   "pygments_lexer": "ipython3",
   "version": "3.7.1"
  }
 },
 "nbformat": 4,
 "nbformat_minor": 2
}
